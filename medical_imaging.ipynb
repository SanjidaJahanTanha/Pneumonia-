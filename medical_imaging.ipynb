{
  "nbformat": 4,
  "nbformat_minor": 0,
  "metadata": {
    "colab": {
      "provenance": [],
      "gpuType": "T4",
      "authorship_tag": "ABX9TyPZT1BoLuF+7mAs6oCm1vUv",
      "include_colab_link": true
    },
    "kernelspec": {
      "name": "python3",
      "display_name": "Python 3"
    },
    "language_info": {
      "name": "python"
    },
    "accelerator": "GPU"
  },
  "cells": [
    {
      "cell_type": "markdown",
      "metadata": {
        "id": "view-in-github",
        "colab_type": "text"
      },
      "source": [
        "<a href=\"https://colab.research.google.com/github/SanjidaJahanTanha/Pneumonia-/blob/main/medical_imaging.ipynb\" target=\"_parent\"><img src=\"https://colab.research.google.com/assets/colab-badge.svg\" alt=\"Open In Colab\"/></a>"
      ]
    },
    {
      "cell_type": "code",
      "execution_count": null,
      "metadata": {
        "id": "a4k2tHvt4skv"
      },
      "outputs": [],
      "source": [
        "!pip install kaggle\n"
      ]
    },
    {
      "source": [
        "#Mount Google Drive:\n",
        "from google.colab import drive\n",
        "drive.mount('/content/drive') # Change the mountpoint to an existing directory"
      ],
      "cell_type": "code",
      "metadata": {
        "colab": {
          "base_uri": "https://localhost:8080/"
        },
        "id": "__8SgnKk52MI",
        "outputId": "65d9b719-4e9b-4cb4-fad7-500afc08bd38"
      },
      "execution_count": null,
      "outputs": [
        {
          "output_type": "stream",
          "name": "stdout",
          "text": [
            "Drive already mounted at /content/drive; to attempt to forcibly remount, call drive.mount(\"/content/drive\", force_remount=True).\n"
          ]
        }
      ]
    },
    {
      "source": [
        "#Copy kaggle.json File:\n",
        "!rm -r ~/.kaggle\n",
        "!mkdir ~/.kaggle\n",
        "!cp /content/drive/MyDrive/Colab\\ Notebooks/kaggle.json ~/.kaggle/"
      ],
      "cell_type": "code",
      "metadata": {
        "id": "dBxfrKUL8Jyo"
      },
      "execution_count": null,
      "outputs": []
    },
    {
      "cell_type": "code",
      "source": [
        "#Set appropriate permissions for the kaggle.json file\n",
        "!chmod 600 ~/.kaggle/kaggle.json\n"
      ],
      "metadata": {
        "id": "m3xgC4T69GqT"
      },
      "execution_count": null,
      "outputs": []
    },
    {
      "cell_type": "code",
      "source": [
        "#verify setup\n",
        "!kaggle datasets list\n"
      ],
      "metadata": {
        "id": "DRRqGs2w9I8i"
      },
      "execution_count": null,
      "outputs": []
    },
    {
      "source": [
        "from google.colab import drive\n",
        "drive.mount('/content/drive', force_remount=True)"
      ],
      "cell_type": "code",
      "metadata": {
        "colab": {
          "base_uri": "https://localhost:8080/"
        },
        "id": "MaFCwe5Uomf8",
        "outputId": "6caa0d66-77b3-4b4e-dee6-111ae9dae21a"
      },
      "execution_count": null,
      "outputs": [
        {
          "output_type": "stream",
          "name": "stdout",
          "text": [
            "Mounted at /content/drive\n"
          ]
        }
      ]
    },
    {
      "source": [
        "#Unzip the Dataset\n",
        "!mkdir -p /content/rsna-pneumonia-detection-challenge\n",
        "!unzip -q /content/drive/MyDrive/Colab\\ Notebooks/rsna-pneumonia-detection-challenge.zip -d /content/rsna-pneumonia-detection-challenge"
      ],
      "cell_type": "code",
      "metadata": {
        "id": "qgHoiRV7n-Ee"
      },
      "execution_count": null,
      "outputs": []
    },
    {
      "cell_type": "code",
      "source": [
        "#Install Necessary Packages\n",
        "!pip install tensorflow torch torchvision"
      ],
      "metadata": {
        "id": "cPkJztyvpOfg"
      },
      "execution_count": null,
      "outputs": []
    },
    {
      "cell_type": "code",
      "source": [
        "#Data Preprocessing\n",
        "import pandas as pd\n",
        "import numpy as np\n",
        "import os\n",
        "import cv2\n",
        "import matplotlib.pyplot as plt\n",
        "from sklearn.model_selection import train_test_split\n",
        "\n",
        "# Load dataset CSV\n",
        "train_labels = pd.read_csv('/content/rsna-pneumonia-detection-challenge/stage_2_train_labels.csv')\n",
        "\n",
        "# Display the first few rows\n",
        "print(train_labels.head())\n",
        "\n",
        "# Preprocess images\n",
        "def preprocess_image(img_path, target_size=(224, 224)):\n",
        "    img = cv2.imread(img_path, cv2.IMREAD_GRAYSCALE)\n",
        "    img = cv2.resize(img, target_size)\n",
        "    img = cv2.equalizeHist(img)  # Histogram equalization\n",
        "    img = img / 255.0  # Normalize\n",
        "    return img\n",
        "\n",
        "# Example of preprocessing a single image\n",
        "img_path = '/content/rsna-pneumonia-detection-challenge/stage_2_train_images/0004cfab-14fd-4e49-80ba-63afce7341b9.dcm'\n",
        "img = preprocess_image(img_path)\n",
        "plt.imshow(img, cmap='gray')\n",
        "plt.show()\n"
      ],
      "metadata": {
        "id": "dEcgLZADpVoE"
      },
      "execution_count": null,
      "outputs": []
    },
    {
      "cell_type": "code",
      "source": [
        "#YOLO Model Implementation\n",
        "# Example code to load and use a pre-trained YOLO model (using TensorFlow)\n",
        "\n",
        "from tensorflow.keras.applications import YOLO\n",
        "\n",
        "# Load a pre-trained YOLO model\n",
        "model = YOLO(weights='imagenet')\n",
        "\n",
        "# Example prediction\n",
        "img = preprocess_image('/content/rsna-pneumonia-detection-challenge/stage_2_train_images/sample_image.dcm')\n",
        "prediction = model.predict(np.expand_dims(img, axis=0))\n",
        "print(prediction)\n"
      ],
      "metadata": {
        "id": "HVsk7V5q_gni"
      },
      "execution_count": null,
      "outputs": []
    },
    {
      "cell_type": "code",
      "source": [
        "#Faster R-CNN and SSD Implementation\n",
        "# Example code to load and use pre-trained Faster R-CNN and SSD models (using PyTorch)\n",
        "\n",
        "import torch\n",
        "import torchvision\n",
        "from torchvision.models.detection import fasterrcnn_resnet50_fpn, ssd300_vgg16\n",
        "\n",
        "# Load pre-trained Faster R-CNN model\n",
        "faster_rcnn_model = fasterrcnn_resnet50_fpn(pretrained=True)\n",
        "faster_rcnn_model.eval()\n",
        "\n",
        "# Load pre-trained SSD model\n",
        "ssd_model = ssd300_vgg16(pretrained=True)\n",
        "ssd_model.eval()\n",
        "\n",
        "# Example prediction with Faster R-CNN\n",
        "img_tensor = transforms.ToTensor()(img)\n",
        "prediction = faster_rcnn_model([img_tensor])\n",
        "print(prediction)\n"
      ],
      "metadata": {
        "id": "Wt4XVjYY_oE_"
      },
      "execution_count": null,
      "outputs": []
    },
    {
      "cell_type": "code",
      "source": [
        "# Ensemble Techniques, Combine predictions from YOLO, Faster R-CNN, and SSD\n",
        "yolo_prediction = model.predict(np.expand_dims(img, axis=0))\n",
        "faster_rcnn_prediction = faster_rcnn_model([img_tensor])\n",
        "ssd_prediction = ssd_model([img_tensor])\n",
        "\n",
        "# Example of ensemble averaging (adjust based on your predictions)\n",
        "ensemble_prediction = (yolo_prediction + faster_rcnn_prediction + ssd_prediction) / 3\n",
        "print(ensemble_prediction)\n"
      ],
      "metadata": {
        "id": "i2HGCj8t_wQv"
      },
      "execution_count": null,
      "outputs": []
    },
    {
      "cell_type": "code",
      "source": [
        "# Evaluate Models, Example code for evaluation (adjust as per your evaluation metrics)\n",
        "from sklearn.metrics import accuracy_score, precision_score, recall_score, f1_score\n",
        "\n",
        "true_labels = [0, 1, 0, 1]  # Example true labels\n",
        "predicted_labels = [0, 1, 0, 0]  # Example predicted labels\n",
        "\n",
        "accuracy = accuracy_score(true_labels, predicted_labels)\n",
        "precision = precision_score(true_labels, predicted_labels)\n",
        "recall = recall_score(true_labels, predicted_labels)\n",
        "f1 = f1_score(true_labels, predicted_labels)\n",
        "\n",
        "print(f\"Accuracy: {accuracy}, Precision: {precision}, Recall: {recall}, F1-score: {f1}\")\n"
      ],
      "metadata": {
        "id": "R0h-W9wm_yPt"
      },
      "execution_count": null,
      "outputs": []
    },
    {
      "cell_type": "code",
      "source": [
        "#Explainability Methods, Example code for using LIME (adjust based on your implementation)\n",
        "from lime.lime_image import LimeImageExplainer\n",
        "\n",
        "explainer = LimeImageExplainer()\n",
        "explanation = explainer.explain_instance(img, model.predict, top_labels=1, num_samples=1000)"
      ],
      "metadata": {
        "id": "iGlxCx8w_7uH"
      },
      "execution_count": null,
      "outputs": []
    },
    {
      "cell_type": "code",
      "source": [
        "#Visualize Explainability, Example code for visualizing Grad-CAM (adjust based on your implementation)\n",
        "import matplotlib.pyplot as plt\n",
        "from torchvision.models import resnet50\n",
        "from torchcam.cams import GradCAM\n",
        "\n",
        "model = resnet50(pretrained=True)\n",
        "cam = GradCAM(model=model, target_layer='layer4')\n",
        "\n",
        "# Visualize Grad-CAM heatmap\n",
        "heatmap = cam(input_tensor)\n",
        "plt.imshow(heatmap)\n",
        "plt.show()\n"
      ],
      "metadata": {
        "id": "ZPzH8ZH-ABI_"
      },
      "execution_count": null,
      "outputs": []
    }
  ]
}